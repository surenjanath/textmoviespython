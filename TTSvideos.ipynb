{
  "nbformat": 4,
  "nbformat_minor": 0,
  "metadata": {
    "colab": {
      "name": "TTSvideos.ipynb",
      "provenance": [],
      "authorship_tag": "ABX9TyO/V/4v5mGnnBYRwogVXVFW"
    },
    "kernelspec": {
      "name": "python3",
      "display_name": "Python 3"
    },
    "language_info": {
      "name": "python"
    }
  },
  "cells": [
    {
      "cell_type": "code",
      "metadata": {
        "id": "k3qC6NgG_fXz"
      },
      "source": [
        "# ###################################\n",
        "#     ----    S T A R T ----\n",
        "# ###################################\n",
        "\n",
        "# Libraries to be installed every run\n",
        "\n",
        "!pip install moviepy\n",
        "!pip install pytube \n",
        "!apt install imagemagick\n",
        "!pip install gtts\n",
        "\n",
        "# ###################################\n",
        "#       -- I M P O R T A N T --\n",
        "# ###################################\n",
        "# imagemagick have a piece of line that needs deleting so this would read and delete the line ( rewrite file )\n",
        "\n",
        "policypath = '/etc/ImageMagick-6/policy.xml'\n",
        "try:\n",
        "  with open(policypath,'r') as f:\n",
        "    lines = f.readlines()\n",
        "  # del policypath\n",
        "except:\n",
        "  print('File not found...')\n",
        "\n",
        "# policypath = '/etc/ImageMagick-6/policy.xml'\n",
        "with open(policypath,'w') as rwrite:\n",
        "  for i in lines:\n",
        "    if i.strip() == '<policy domain=\"path\" rights=\"none\" pattern=\"@*\"/>':\n",
        "      print('deleted')\n",
        "    else:\n",
        "      rwrite.write(i)"
      ],
      "execution_count": null,
      "outputs": []
    },
    {
      "cell_type": "code",
      "metadata": {
        "id": "gsjTR0iN82Kl"
      },
      "source": [
        "from gtts import gTTS as s\n",
        "import os\n",
        "import sys\n",
        "# from pytube import YouTube # downloading videos\n",
        "from moviepy.editor import * # for editing video\n",
        "import subprocess # splitting videos\n",
        "import re"
      ],
      "execution_count": null,
      "outputs": []
    },
    {
      "cell_type": "code",
      "metadata": {
        "id": "QaqRVUTH9Aq3"
      },
      "source": [
        "text = '''\n",
        "Yesterday, you learned the personality traits that create healthy relationships.\n",
        "Today, you will learn a strategy that motivates you to develop these personality traits.\n",
        "This strategy is called 'relationship goal setting.'\n",
        "There are two types of relationship goal setting: (1) insensitive goals and (2) compassionate goals.\n",
        "If you want a healthy connection with your partner, you need to have compassionate goals.\n",
        "\n",
        "Compassionate goals includes:\n",
        "-- My goal is to be trustworthy.\n",
        "-- My goal is to be a good communicator.\n",
        "-- My goal is to make a positive difference in my partner's life.\n",
        "-- My goal is to have a healthy attitude towards conflict.\n",
        "-- My goal is to be supportive of my partner during hard times.\n",
        "-- My goal is to be available to meet my partner's needs as often as possible.\n",
        "-- My goal is to have a secure attachment style.\n",
        "\n",
        "These are the goals you need to aim to achieve in your relationship every day. How many of these goals do you have written down? How many days a week do you review these written goals? The more you program these goals in your mind, the more likely your brain will take action to achieve them. I'll talk about each of these goals the next two weeks .\n",
        "'''\n",
        "language = 'en'\n",
        "output = s(text,lang=language,slow=False)\n",
        "output.save('test.mp3')"
      ],
      "execution_count": 19,
      "outputs": []
    },
    {
      "cell_type": "code",
      "metadata": {
        "colab": {
          "base_uri": "https://localhost:8080/"
        },
        "id": "L1YjyXAG9Pe0",
        "outputId": "774cff43-e987-4ee1-97a7-198b97462680"
      },
      "source": [
        "os.system(\"start test.mp3\")"
      ],
      "execution_count": null,
      "outputs": [
        {
          "output_type": "execute_result",
          "data": {
            "text/plain": [
              "32512"
            ]
          },
          "metadata": {
            "tags": []
          },
          "execution_count": 13
        }
      ]
    }
  ]
}